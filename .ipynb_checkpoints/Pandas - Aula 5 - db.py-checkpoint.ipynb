{
 "cells": [
  {
   "cell_type": "code",
   "execution_count": 13,
   "metadata": {},
   "outputs": [],
   "source": [
    "from db import DB"
   ]
  },
  {
   "cell_type": "code",
   "execution_count": 14,
   "metadata": {},
   "outputs": [
    {
     "name": "stderr",
     "output_type": "stream",
     "text": [
      "Indexing schema. This will take a second...finished!\n"
     ]
    }
   ],
   "source": [
    "database = DB(filename='logs.sqlite3', dbtype='sqlite')"
   ]
  },
  {
   "cell_type": "code",
   "execution_count": 15,
   "metadata": {},
   "outputs": [
    {
     "name": "stderr",
     "output_type": "stream",
     "text": [
      "Refreshing schema. Please wait...done!\n"
     ]
    },
    {
     "data": {
      "text/html": [
       "<table>\n",
       "    <tr>\n",
       "        <th>Schema</th>\n",
       "        <th>Table</th>\n",
       "        <th>Columns</th>\n",
       "    </tr>\n",
       "    <tr>\n",
       "        <td>public</td>\n",
       "        <td>log</td>\n",
       "        <td>id, path, user_id, date</td>\n",
       "    </tr>\n",
       "</table>"
      ],
      "text/plain": [
       "+--------+-------+-------------------------+\n",
       "| Schema | Table | Columns                 |\n",
       "+--------+-------+-------------------------+\n",
       "| public | log   | id, path, user_id, date |\n",
       "+--------+-------+-------------------------+"
      ]
     },
     "execution_count": 15,
     "metadata": {},
     "output_type": "execute_result"
    }
   ],
   "source": [
    "database.tables"
   ]
  },
  {
   "cell_type": "code",
   "execution_count": 16,
   "metadata": {},
   "outputs": [],
   "source": [
    "log_df = database.tables.log"
   ]
  },
  {
   "cell_type": "code",
   "execution_count": 19,
   "metadata": {},
   "outputs": [
    {
     "data": {
      "text/html": [
       "<table>\n",
       "    <tr>\n",
       "        <th>Column</th>\n",
       "        <th>Type</th>\n",
       "        <th>Foreign Keys</th>\n",
       "        <th>Reference Keys</th>\n",
       "    </tr>\n",
       "    <tr>\n",
       "        <td>id</td>\n",
       "        <td>integer</td>\n",
       "        <td></td>\n",
       "        <td></td>\n",
       "    </tr>\n",
       "    <tr>\n",
       "        <td>path</td>\n",
       "        <td>text</td>\n",
       "        <td></td>\n",
       "        <td></td>\n",
       "    </tr>\n",
       "    <tr>\n",
       "        <td>user_id</td>\n",
       "        <td>integer</td>\n",
       "        <td></td>\n",
       "        <td></td>\n",
       "    </tr>\n",
       "    <tr>\n",
       "        <td>date</td>\n",
       "        <td>numeric</td>\n",
       "        <td></td>\n",
       "        <td></td>\n",
       "    </tr>\n",
       "</table>"
      ],
      "text/plain": [
       "+---------------------------------------------------+\n",
       "|                        log                        |\n",
       "+---------+---------+--------------+----------------+\n",
       "| Column  | Type    | Foreign Keys | Reference Keys |\n",
       "+---------+---------+--------------+----------------+\n",
       "| id      | integer |              |                |\n",
       "| path    | text    |              |                |\n",
       "| user_id | integer |              |                |\n",
       "| date    | numeric |              |                |\n",
       "+---------+---------+--------------+----------------+"
      ]
     },
     "execution_count": 19,
     "metadata": {},
     "output_type": "execute_result"
    }
   ],
   "source": [
    "log_df "
   ]
  },
  {
   "cell_type": "code",
   "execution_count": 20,
   "metadata": {},
   "outputs": [],
   "source": [
    "log_dif = database.tables.log.all()"
   ]
  },
  {
   "cell_type": "code",
   "execution_count": 21,
   "metadata": {},
   "outputs": [
    {
     "data": {
      "text/html": [
       "<table>\n",
       "    <tr>\n",
       "        <th>Column</th>\n",
       "        <th>Type</th>\n",
       "        <th>Foreign Keys</th>\n",
       "        <th>Reference Keys</th>\n",
       "    </tr>\n",
       "    <tr>\n",
       "        <td>id</td>\n",
       "        <td>integer</td>\n",
       "        <td></td>\n",
       "        <td></td>\n",
       "    </tr>\n",
       "    <tr>\n",
       "        <td>path</td>\n",
       "        <td>text</td>\n",
       "        <td></td>\n",
       "        <td></td>\n",
       "    </tr>\n",
       "    <tr>\n",
       "        <td>user_id</td>\n",
       "        <td>integer</td>\n",
       "        <td></td>\n",
       "        <td></td>\n",
       "    </tr>\n",
       "    <tr>\n",
       "        <td>date</td>\n",
       "        <td>numeric</td>\n",
       "        <td></td>\n",
       "        <td></td>\n",
       "    </tr>\n",
       "</table>"
      ],
      "text/plain": [
       "+---------------------------------------------------+\n",
       "|                        log                        |\n",
       "+---------+---------+--------------+----------------+\n",
       "| Column  | Type    | Foreign Keys | Reference Keys |\n",
       "+---------+---------+--------------+----------------+\n",
       "| id      | integer |              |                |\n",
       "| path    | text    |              |                |\n",
       "| user_id | integer |              |                |\n",
       "| date    | numeric |              |                |\n",
       "+---------+---------+--------------+----------------+"
      ]
     },
     "execution_count": 21,
     "metadata": {},
     "output_type": "execute_result"
    }
   ],
   "source": [
    "log_df"
   ]
  },
  {
   "cell_type": "code",
   "execution_count": 24,
   "metadata": {},
   "outputs": [],
   "source": [
    "log_df = database.query('select * from log where user_id = 3')"
   ]
  },
  {
   "cell_type": "code",
   "execution_count": 25,
   "metadata": {},
   "outputs": [
    {
     "data": {
      "text/html": [
       "<div>\n",
       "<style scoped>\n",
       "    .dataframe tbody tr th:only-of-type {\n",
       "        vertical-align: middle;\n",
       "    }\n",
       "\n",
       "    .dataframe tbody tr th {\n",
       "        vertical-align: top;\n",
       "    }\n",
       "\n",
       "    .dataframe thead th {\n",
       "        text-align: right;\n",
       "    }\n",
       "</style>\n",
       "<table border=\"1\" class=\"dataframe\">\n",
       "  <thead>\n",
       "    <tr style=\"text-align: right;\">\n",
       "      <th></th>\n",
       "      <th>id</th>\n",
       "      <th>path</th>\n",
       "      <th>user_id</th>\n",
       "      <th>date</th>\n",
       "    </tr>\n",
       "  </thead>\n",
       "  <tbody>\n",
       "    <tr>\n",
       "      <th>0</th>\n",
       "      <td>1</td>\n",
       "      <td>/</td>\n",
       "      <td>3</td>\n",
       "      <td>2017-01-03T11:41:00</td>\n",
       "    </tr>\n",
       "    <tr>\n",
       "      <th>1</th>\n",
       "      <td>6</td>\n",
       "      <td>/cursos/</td>\n",
       "      <td>3</td>\n",
       "      <td>2017-01-03T11:31:00</td>\n",
       "    </tr>\n",
       "    <tr>\n",
       "      <th>2</th>\n",
       "      <td>13</td>\n",
       "      <td>/django-ecommerce/</td>\n",
       "      <td>3</td>\n",
       "      <td>2017-01-03T11:59:00</td>\n",
       "    </tr>\n",
       "    <tr>\n",
       "      <th>3</th>\n",
       "      <td>16</td>\n",
       "      <td>/cursos/</td>\n",
       "      <td>3</td>\n",
       "      <td>2017-01-03T11:39:00</td>\n",
       "    </tr>\n",
       "    <tr>\n",
       "      <th>4</th>\n",
       "      <td>22</td>\n",
       "      <td>/django-ecommerce/</td>\n",
       "      <td>3</td>\n",
       "      <td>2017-01-03T10:35:00</td>\n",
       "    </tr>\n",
       "    <tr>\n",
       "      <th>5</th>\n",
       "      <td>28</td>\n",
       "      <td>/django-ecommerce/</td>\n",
       "      <td>3</td>\n",
       "      <td>2017-01-03T11:57:00</td>\n",
       "    </tr>\n",
       "    <tr>\n",
       "      <th>6</th>\n",
       "      <td>34</td>\n",
       "      <td>/pandas/</td>\n",
       "      <td>3</td>\n",
       "      <td>2017-01-03T11:43:00</td>\n",
       "    </tr>\n",
       "    <tr>\n",
       "      <th>7</th>\n",
       "      <td>38</td>\n",
       "      <td>/videos/</td>\n",
       "      <td>3</td>\n",
       "      <td>2017-01-03T11:58:00</td>\n",
       "    </tr>\n",
       "    <tr>\n",
       "      <th>8</th>\n",
       "      <td>47</td>\n",
       "      <td>/pandas/</td>\n",
       "      <td>3</td>\n",
       "      <td>2017-01-03T10:55:00</td>\n",
       "    </tr>\n",
       "    <tr>\n",
       "      <th>9</th>\n",
       "      <td>51</td>\n",
       "      <td>/python-para-zumbis/</td>\n",
       "      <td>3</td>\n",
       "      <td>2017-01-03T11:57:00</td>\n",
       "    </tr>\n",
       "    <tr>\n",
       "      <th>10</th>\n",
       "      <td>56</td>\n",
       "      <td>/</td>\n",
       "      <td>3</td>\n",
       "      <td>2017-01-03T11:45:00</td>\n",
       "    </tr>\n",
       "    <tr>\n",
       "      <th>11</th>\n",
       "      <td>60</td>\n",
       "      <td>/videos/</td>\n",
       "      <td>3</td>\n",
       "      <td>2017-01-03T11:37:00</td>\n",
       "    </tr>\n",
       "    <tr>\n",
       "      <th>12</th>\n",
       "      <td>64</td>\n",
       "      <td>/</td>\n",
       "      <td>3</td>\n",
       "      <td>2017-01-03T10:48:00</td>\n",
       "    </tr>\n",
       "    <tr>\n",
       "      <th>13</th>\n",
       "      <td>66</td>\n",
       "      <td>/django-ecommerce/</td>\n",
       "      <td>3</td>\n",
       "      <td>2017-01-03T10:54:00</td>\n",
       "    </tr>\n",
       "    <tr>\n",
       "      <th>14</th>\n",
       "      <td>69</td>\n",
       "      <td>/python-para-zumbis/</td>\n",
       "      <td>3</td>\n",
       "      <td>2017-01-03T11:50:00</td>\n",
       "    </tr>\n",
       "    <tr>\n",
       "      <th>15</th>\n",
       "      <td>73</td>\n",
       "      <td>/</td>\n",
       "      <td>3</td>\n",
       "      <td>2017-01-03T11:49:00</td>\n",
       "    </tr>\n",
       "    <tr>\n",
       "      <th>16</th>\n",
       "      <td>78</td>\n",
       "      <td>/python-para-zumbis/</td>\n",
       "      <td>3</td>\n",
       "      <td>2017-01-03T11:54:00</td>\n",
       "    </tr>\n",
       "    <tr>\n",
       "      <th>17</th>\n",
       "      <td>79</td>\n",
       "      <td>/pandas/</td>\n",
       "      <td>3</td>\n",
       "      <td>2017-01-03T11:57:00</td>\n",
       "    </tr>\n",
       "    <tr>\n",
       "      <th>18</th>\n",
       "      <td>80</td>\n",
       "      <td>/videos/</td>\n",
       "      <td>3</td>\n",
       "      <td>2017-01-03T11:32:00</td>\n",
       "    </tr>\n",
       "    <tr>\n",
       "      <th>19</th>\n",
       "      <td>82</td>\n",
       "      <td>/django-ecommerce/</td>\n",
       "      <td>3</td>\n",
       "      <td>2017-01-03T11:39:00</td>\n",
       "    </tr>\n",
       "    <tr>\n",
       "      <th>20</th>\n",
       "      <td>83</td>\n",
       "      <td>/pandas/</td>\n",
       "      <td>3</td>\n",
       "      <td>2017-01-03T11:51:00</td>\n",
       "    </tr>\n",
       "    <tr>\n",
       "      <th>21</th>\n",
       "      <td>85</td>\n",
       "      <td>/django-ecommerce/</td>\n",
       "      <td>3</td>\n",
       "      <td>2017-01-03T10:45:00</td>\n",
       "    </tr>\n",
       "    <tr>\n",
       "      <th>22</th>\n",
       "      <td>94</td>\n",
       "      <td>/django-ecommerce/</td>\n",
       "      <td>3</td>\n",
       "      <td>2017-01-03T11:54:00</td>\n",
       "    </tr>\n",
       "    <tr>\n",
       "      <th>23</th>\n",
       "      <td>99</td>\n",
       "      <td>/python-para-zumbis/</td>\n",
       "      <td>3</td>\n",
       "      <td>2017-01-03T10:56:00</td>\n",
       "    </tr>\n",
       "  </tbody>\n",
       "</table>\n",
       "</div>"
      ],
      "text/plain": [
       "    id                  path  user_id                 date\n",
       "0    1                     /        3  2017-01-03T11:41:00\n",
       "1    6              /cursos/        3  2017-01-03T11:31:00\n",
       "2   13    /django-ecommerce/        3  2017-01-03T11:59:00\n",
       "3   16              /cursos/        3  2017-01-03T11:39:00\n",
       "4   22    /django-ecommerce/        3  2017-01-03T10:35:00\n",
       "5   28    /django-ecommerce/        3  2017-01-03T11:57:00\n",
       "6   34              /pandas/        3  2017-01-03T11:43:00\n",
       "7   38              /videos/        3  2017-01-03T11:58:00\n",
       "8   47              /pandas/        3  2017-01-03T10:55:00\n",
       "9   51  /python-para-zumbis/        3  2017-01-03T11:57:00\n",
       "10  56                     /        3  2017-01-03T11:45:00\n",
       "11  60              /videos/        3  2017-01-03T11:37:00\n",
       "12  64                     /        3  2017-01-03T10:48:00\n",
       "13  66    /django-ecommerce/        3  2017-01-03T10:54:00\n",
       "14  69  /python-para-zumbis/        3  2017-01-03T11:50:00\n",
       "15  73                     /        3  2017-01-03T11:49:00\n",
       "16  78  /python-para-zumbis/        3  2017-01-03T11:54:00\n",
       "17  79              /pandas/        3  2017-01-03T11:57:00\n",
       "18  80              /videos/        3  2017-01-03T11:32:00\n",
       "19  82    /django-ecommerce/        3  2017-01-03T11:39:00\n",
       "20  83              /pandas/        3  2017-01-03T11:51:00\n",
       "21  85    /django-ecommerce/        3  2017-01-03T10:45:00\n",
       "22  94    /django-ecommerce/        3  2017-01-03T11:54:00\n",
       "23  99  /python-para-zumbis/        3  2017-01-03T10:56:00"
      ]
     },
     "execution_count": 25,
     "metadata": {},
     "output_type": "execute_result"
    }
   ],
   "source": [
    "log_df"
   ]
  },
  {
   "cell_type": "code",
   "execution_count": 27,
   "metadata": {},
   "outputs": [],
   "source": [
    "log_df = database.query('select * from log')"
   ]
  },
  {
   "cell_type": "code",
   "execution_count": 28,
   "metadata": {},
   "outputs": [
    {
     "data": {
      "text/plain": [
       "100"
      ]
     },
     "execution_count": 28,
     "metadata": {},
     "output_type": "execute_result"
    }
   ],
   "source": [
    "len(log_df)"
   ]
  },
  {
   "cell_type": "code",
   "execution_count": null,
   "metadata": {},
   "outputs": [],
   "source": []
  }
 ],
 "metadata": {
  "kernelspec": {
   "display_name": "Python 3",
   "language": "python",
   "name": "python3"
  },
  "language_info": {
   "codemirror_mode": {
    "name": "ipython",
    "version": 3
   },
   "file_extension": ".py",
   "mimetype": "text/x-python",
   "name": "python",
   "nbconvert_exporter": "python",
   "pygments_lexer": "ipython3",
   "version": "3.7.6"
  }
 },
 "nbformat": 4,
 "nbformat_minor": 4
}
